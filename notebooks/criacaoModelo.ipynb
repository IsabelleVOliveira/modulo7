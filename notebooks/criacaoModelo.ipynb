{
 "cells": [
  {
   "cell_type": "code",
   "execution_count": null,
   "metadata": {},
   "outputs": [
    {
     "ename": "",
     "evalue": "",
     "output_type": "error",
     "traceback": [
      "\u001b[1;31mRunning cells with 'venv (Python 3.11.9)' requires the ipykernel package.\n",
      "\u001b[1;31mRun the following command to install 'ipykernel' into the Python environment. \n",
      "\u001b[1;31mCommand: 'c:/Users/Inteli/Documents/m7/modulo7/venv/Scripts/python.exe -m pip install ipykernel -U --force-reinstall'"
     ]
    }
   ],
   "source": [
    "%pip install yfinance\n",
    "%pip install mplfinance\n",
    "%pip install scikit-learn\n",
    "%pip install tensorflow\n",
    "%pip install statsmodels\n",
    "# !pip install arch"
   ]
  },
  {
   "cell_type": "code",
   "execution_count": null,
   "metadata": {},
   "outputs": [],
   "source": [
    "import tensorflow as tf\n",
    "print(\"Versão do TensorFlow:\", tf.__version__)"
   ]
  },
  {
   "cell_type": "code",
   "execution_count": 28,
   "metadata": {},
   "outputs": [],
   "source": [
    "import yfinance as yf\n",
    "import matplotlib.pyplot as plt\n",
    "import numpy as np\n",
    "import pandas as pd\n",
    "# from arch import arch_model\n",
    "from sklearn.model_selection import train_test_split\n",
    "from sklearn.preprocessing import StandardScaler\n",
    "from sklearn.linear_model import LogisticRegression\n",
    "from sklearn.metrics import accuracy_score, classification_report\n"
   ]
  },
  {
   "cell_type": "code",
   "execution_count": null,
   "metadata": {},
   "outputs": [],
   "source": [
    "# Baixar os dados das ações da DOGE\n",
    "dogecoin = yf.download('DOGE-USD', period='1y')\n",
    "dogecoin\n",
    "\n",
    "# # Buscando os dados da ação da Apple\n",
    "# dogecoin = yf.Ticker('DOGE-USD')\n",
    "# dogecoin_data = dogecoin.history(period='1y')\n",
    "# dogecoin_data.head()"
   ]
  },
  {
   "cell_type": "markdown",
   "metadata": {},
   "source": [
    "A condição > 0 verifica se o retorno percentual do próximo dia (shift(-1)) é positivo (ou seja, se o preço vai subir)."
   ]
  },
  {
   "cell_type": "code",
   "execution_count": null,
   "metadata": {},
   "outputs": [],
   "source": [
    "# Baixar os dados das ações da DOGE\n",
    "dogecoin = yf.download('DOGE-USD', period='1y')\n",
    "dogecoin\n",
    "\n",
    "# # Buscando os dados da ação da Apple\n",
    "# dogecoin = yf.Ticker('DOGE-USD')\n",
    "# dogecoin_data = dogecoin.history(period='1y')\n",
    "# dogecoin_data.head()"
   ]
  },
  {
   "cell_type": "code",
   "execution_count": 30,
   "metadata": {},
   "outputs": [],
   "source": [
    "# Criar uma coluna de retorno diário\n",
    "dogecoin['Return'] = dogecoin['Close'].pct_change()\n",
    "\n",
    "# Criar a variável target: 1 para subida e 0 para descida\n",
    "dogecoin['Target'] = (dogecoin['Return'].shift(-1) > 0).astype(int)\n",
    "\n",
    "# Remover valores nulos\n",
    "dogecoin.dropna(inplace=True)"
   ]
  },
  {
   "cell_type": "code",
   "execution_count": null,
   "metadata": {},
   "outputs": [],
   "source": [
    "dogecoin.head()"
   ]
  },
  {
   "cell_type": "markdown",
   "metadata": {},
   "source": [
    "**Relação entre o preço de fechamento (Close) e o preço de abertura (Open)**"
   ]
  },
  {
   "cell_type": "code",
   "execution_count": 32,
   "metadata": {},
   "outputs": [],
   "source": [
    "# Supondo que o dataset já está carregado em um DataFrame chamado df\n",
    "dogecoin['Close/Open'] = dogecoin['Close'] / dogecoin['Open']"
   ]
  },
  {
   "cell_type": "code",
   "execution_count": null,
   "metadata": {},
   "outputs": [],
   "source": [
    "dogecoin.head()"
   ]
  },
  {
   "cell_type": "markdown",
   "metadata": {},
   "source": [
    "Descrição das colunas: \n",
    "- Open: Preço de abertura da Dogecoin em um determinado dia. Esse valor reflete o primeiro preço pelo qual a Dogecoin foi negociada no dia.\n",
    "\n",
    "- High: O preço máximo atingido pela Dogecoin no dia.\n",
    "\n",
    "- Low: O preço mínimo atingido pela Dogecoin no dia.\n",
    "\n",
    "- Close: Preço de fechamento da Dogecoin no dia. Este é o último valor pelo qual a Dogecoin foi negociada.\n",
    "\n",
    "- Adj Close: Preço de fechamento ajustado para dividendos, splits, etc. Como no caso de criptomoedas, ele geralmente coincide com o valor de Close, **essa coluna será removida.**\n",
    "\n",
    "- Volume: Número total de moedas negociadas no dia.\n",
    "\n",
    "- Return: Variação percentual diária entre o preço de fechamento de um dia e o do dia anterior.\n",
    "\n",
    "- Target: Valor binário (1 ou 0) indicando se o preço da Dogecoin irá subir ou descer no dia seguinte. Ele é calculado com base no retorno do próximo dia.\n",
    "\n",
    "- Close/Open: Razão entre o preço de fechamento e o preço de abertura no mesmo dia."
   ]
  },
  {
   "cell_type": "code",
   "execution_count": null,
   "metadata": {},
   "outputs": [],
   "source": [
    "dogecoin.columns"
   ]
  },
  {
   "cell_type": "code",
   "execution_count": null,
   "metadata": {},
   "outputs": [],
   "source": [
    "dogecoin.drop(columns=['Adj Close'], inplace=True)\n",
    "dogecoin.head()"
   ]
  },
  {
   "cell_type": "code",
   "execution_count": 36,
   "metadata": {},
   "outputs": [],
   "source": [
    "# # 5. Rescale the returns for better GARCH parameter estimation (recomended)\n",
    "# dogecoin['Return_scaled'] = dogecoin['Return'] * 100"
   ]
  },
  {
   "cell_type": "markdown",
   "metadata": {},
   "source": [
    "Normalização dos dados"
   ]
  },
  {
   "cell_type": "code",
   "execution_count": 37,
   "metadata": {},
   "outputs": [],
   "source": [
    "import math\n",
    "import numpy as np\n",
    "  \n",
    "# Normalização Z-score\n",
    "for column in dogecoin.columns:\n",
    "    dogecoin[column] = (dogecoin[column] - dogecoin[column].mean()) / dogecoin[column].std()"
   ]
  },
  {
   "cell_type": "markdown",
   "metadata": {},
   "source": [
    "Analise dos dados"
   ]
  },
  {
   "cell_type": "code",
   "execution_count": 38,
   "metadata": {},
   "outputs": [],
   "source": [
    "import yfinance as yf\n",
    "import pandas as pd\n",
    "import matplotlib.pyplot as plt\n",
    "import numpy as np\n",
    "import mplfinance as mpf\n",
    "from numpy.polynomial import Polynomial\n",
    "from scipy import stats\n",
    "from sklearn.ensemble import IsolationForest\n",
    "from sklearn.preprocessing import MinMaxScaler\n",
    "import tensorflow as tf\n",
    "from tensorflow.keras.models import Sequential\n",
    "from tensorflow.keras.layers import LSTM, Dense\n",
    "from statsmodels.tsa.arima.model import ARIMA\n",
    "from sklearn.metrics import mean_squared_error\n",
    "# from arch import arch_model"
   ]
  },
  {
   "cell_type": "code",
   "execution_count": null,
   "metadata": {},
   "outputs": [],
   "source": [
    "\n",
    "from numpy.polynomial import Polynomial\n",
    "\n",
    "# Ajuste polinomial de grau 3, por exemplo\n",
    "coefs = Polynomial.fit(X['Date_Ordinal'], y, 3)\n",
    "dogecoin['Polynomial_Trend'] = coefs(X['Date_Ordinal'])\n",
    "\n",
    "plt.figure(figsize=(12, 6))\n",
    "plt.plot(dogecoin['Close'], label='Preço de Fechamento', color='blue')\n",
    "plt.plot(dogecoin['Polynomial_Trend'], label='Tendência Polinomial', color='orange')\n",
    "plt.title('Tendência Polinomial')\n",
    "plt.xlabel('Data')\n",
    "plt.ylabel('Preço de Fechamento (USD)')\n",
    "plt.legend()\n",
    "plt.grid(True)\n",
    "plt.show()"
   ]
  },
  {
   "cell_type": "markdown",
   "metadata": {},
   "source": [
    "# Criação do modelo V1oooooo"
   ]
  },
  {
   "cell_type": "code",
   "execution_count": 40,
   "metadata": {},
   "outputs": [],
   "source": [
    "from sklearn.preprocessing import MinMaxScaler\n",
    "import numpy as np\n",
    "\n",
    "# 1. Extraindo e normalizando os dados\n",
    "df = dogecoin[['Close']].dropna()\n",
    "scaler = MinMaxScaler(feature_range=(0, 1))\n",
    "scaled_data = scaler.fit_transform(df)\n",
    "\n",
    "# 2. Função para criar sequências\n",
    "def create_sequences(data, time_steps=60):\n",
    "    X, y = [], []\n",
    "    for i in range(len(data) - time_steps):\n",
    "        X.append(data[i:i + time_steps, 0])\n",
    "        y.append(data[i + time_steps, 0])\n",
    "    return np.array(X), np.array(y)\n",
    "\n",
    "# 3. Criar sequências\n",
    "time_steps = 60\n",
    "X, y = create_sequences(scaled_data, time_steps)\n",
    "\n",
    "# 4. Reshape dos dados\n",
    "X = np.reshape(X, (X.shape[0], X.shape[1], 1))\n",
    "\n",
    "# 5. Dividir os dados em treino e teste\n",
    "split = int(X.shape[0] * 0.8)\n",
    "X_train, y_train = X[:split], y[:split]\n",
    "X_test, y_test = X[split:], y[split:]"
   ]
  },
  {
   "cell_type": "code",
   "execution_count": null,
   "metadata": {},
   "outputs": [],
   "source": [
    "print(\"Forma de X_train:\", X_train.shape)  # Deve ser (n_samples, 60, 1)\n",
    "print(\"Forma de y_train:\", y_train.shape)    # Deve ser (n_samples,)"
   ]
  },
  {
   "cell_type": "code",
   "execution_count": null,
   "metadata": {},
   "outputs": [],
   "source": [
    "import numpy as np\n",
    "from tensorflow.keras.models import Sequential\n",
    "from tensorflow.keras.layers import LSTM, Dense, Dropout\n",
    "\n",
    "# Criar um conjunto de dados aleatório\n",
    "X_test_random = np.random.rand(10, 60, 1)  # 10 amostras, 60 timesteps, 1 feature\n",
    "y_test_random = np.random.rand(10)\n",
    "\n",
    "# Construir o modelo LSTM\n",
    "model = Sequential()\n",
    "model.add(LSTM(units=50, return_sequences=True, input_shape=(X_test_random.shape[1], 1)))\n",
    "model.add(Dropout(0.2))\n",
    "model.add(LSTM(units=50, return_sequences=False))\n",
    "model.add(Dropout(0.2))\n",
    "model.add(Dense(units=1))\n",
    "\n",
    "# Compilar o modelo\n",
    "model.compile(optimizer='adam', loss='mean_squared_error')\n",
    "\n",
    "# Tentar treinar o modelo com dados aleatórios\n",
    "history = model.fit(X_test_random, y_test_random, epochs=5, batch_size=1)\n"
   ]
  },
  {
   "cell_type": "code",
   "execution_count": null,
   "metadata": {},
   "outputs": [],
   "source": [
    "# Fazer previsões sobre os dados de teste\n",
    "predicted_prices = model.predict(X_test)\n",
    "\n",
    "# Desfazer a normalização para os valores previstos e reais\n",
    "predicted_prices = scaler.inverse_transform(predicted_prices.reshape(-1, 1))\n",
    "real_prices = scaler.inverse_transform(y_test.reshape(-1, 1))\n",
    "\n",
    "# Plotar os preços reais vs preços previstos\n",
    "plt.figure(figsize=(10, 6))\n",
    "plt.plot(real_prices, color='blue', label='Preços Reais')\n",
    "plt.plot(predicted_prices, color='red', label='Preços Previstos')\n",
    "plt.title('Previsão de Preços de Criptoativos usando LSTM')\n",
    "plt.xlabel('Tempo')\n",
    "plt.ylabel('Preço')\n",
    "plt.legend()\n",
    "plt.show()"
   ]
  },
  {
   "cell_type": "code",
   "execution_count": 44,
   "metadata": {},
   "outputs": [],
   "source": [
    "def predict_future_days(model, last_sequence, num_days, scaler):\n",
    "    future_predictions = []\n",
    "    current_sequence = last_sequence\n",
    "\n",
    "    for _ in range(num_days):\n",
    "        # Fazer a previsão para o próximo dia\n",
    "        next_prediction = model.predict(current_sequence)\n",
    "        \n",
    "        # Armazenar a previsão\n",
    "        future_predictions.append(next_prediction[0, 0])\n",
    "        \n",
    "        # Redimensionar a previsão para ser compatível com a sequência de entrada\n",
    "        next_prediction_reshaped = np.reshape(next_prediction, (1, 1, 1))\n",
    "        \n",
    "        # Atualizar a sequência com o valor previsto (remover o valor mais antigo e adicionar o novo)\n",
    "        current_sequence = np.append(current_sequence[:, 1:, :], next_prediction_reshaped, axis=1)\n",
    "\n",
    "    # Desfazer a normalização dos valores previstos\n",
    "    future_predictions = scaler.inverse_transform(np.array(future_predictions).reshape(-1, 1))\n",
    "\n",
    "    return future_predictions"
   ]
  },
  {
   "cell_type": "code",
   "execution_count": null,
   "metadata": {},
   "outputs": [],
   "source": [
    "# Pegar os últimos `time_steps` do conjunto de dados de teste\n",
    "last_sequence = scaled_data[-time_steps:].reshape(1, time_steps, 1)\n",
    "\n",
    "# Prever para os próximos 7 dias\n",
    "num_days = 7\n",
    "future_prices = predict_future_days(model, last_sequence, num_days, scaler)\n",
    "\n",
    "# Exibir as previsões para os próximos 7 dias\n",
    "for i, price in enumerate(future_prices):\n",
    "    print(f\"Previsão para o dia {i+1}: {price[0]:.2f}\")"
   ]
  },
  {
   "cell_type": "code",
   "execution_count": null,
   "metadata": {},
   "outputs": [],
   "source": [
    "# Fazer previsões sobre os dados de teste\n",
    "predicted_prices = model.predict(X_test)\n",
    "\n",
    "# Desfazer a normalização para os valores previstos e reais\n",
    "predicted_prices = scaler.inverse_transform(predicted_prices.reshape(-1, 1))\n",
    "real_prices = scaler.inverse_transform(y_test.reshape(-1, 1))\n",
    "\n",
    "# Prever os próximos 7 dias\n",
    "num_days = 7\n",
    "last_sequence = scaled_data[-time_steps:].reshape(1, time_steps, 1)\n",
    "future_prices = predict_future_days(model, last_sequence, num_days, scaler)\n",
    "\n",
    "# Criar um vetor de tempo para as previsões futuras\n",
    "future_time = np.arange(len(real_prices), len(real_prices) + num_days)\n",
    "\n",
    "# Plotar os preços reais, preços previstos e previsões futuras\n",
    "plt.figure(figsize=(12, 8))\n",
    "\n",
    "# Plotar os dados reais\n",
    "plt.plot(real_prices, color='blue', label='Preços Reais')\n",
    "\n",
    "# Plotar os dados previstos para o conjunto de teste\n",
    "plt.plot(predicted_prices, color='red', label='Preços Previstos')\n",
    "\n",
    "# Adicionar as previsões dos próximos 7 dias\n",
    "plt.plot(future_time, future_prices, color='green', label='Previsões Futuras (7 dias)', linestyle='dashed')\n",
    "\n",
    "# Ajustar o gráfico\n",
    "plt.title('Previsão de Preços de Criptoativos usando LSTM')\n",
    "plt.xlabel('Tempo')\n",
    "plt.ylabel('Preço')\n",
    "plt.legend()\n",
    "plt.show()"
   ]
  },
  {
   "cell_type": "code",
   "execution_count": null,
   "metadata": {},
   "outputs": [],
   "source": [
    "import pickle\n",
    "\n",
    "# Supondo que `model` é o seu modelo treinado\n",
    "with open('model_lstm.pkl', 'wb') as f:\n",
    "    pickle.dump(model, f)\n",
    "\n",
    "print(\"Modelo salvo como 'model_lstm.pkl'\")"
   ]
  },
  {
   "cell_type": "code",
   "execution_count": null,
   "metadata": {},
   "outputs": [],
   "source": []
  }
 ],
 "metadata": {
  "kernelspec": {
   "display_name": "Python 3 (ipykernel)",
   "language": "python",
   "name": "python3"
  },
  "language_info": {
   "codemirror_mode": {
    "name": "ipython",
    "version": 3
   },
   "file_extension": ".py",
   "mimetype": "text/x-python",
   "name": "python",
   "nbconvert_exporter": "python",
   "pygments_lexer": "ipython3",
   "version": "3.11.9"
  }
 },
 "nbformat": 4,
 "nbformat_minor": 4
}
