{
 "cells": [
  {
   "cell_type": "code",
   "execution_count": 26,
   "metadata": {},
   "outputs": [
    {
     "name": "stdout",
     "output_type": "stream",
     "text": [
      "Requirement already satisfied: yfinance in /home/linguica/.venv/lib/python3.10/site-packages (0.2.43)\n",
      "Requirement already satisfied: pandas>=1.3.0 in /home/linguica/.venv/lib/python3.10/site-packages (from yfinance) (2.2.3)\n",
      "Requirement already satisfied: numpy>=1.16.5 in /home/linguica/.venv/lib/python3.10/site-packages (from yfinance) (1.26.4)\n",
      "Requirement already satisfied: requests>=2.31 in /home/linguica/.venv/lib/python3.10/site-packages (from yfinance) (2.32.3)\n",
      "Requirement already satisfied: multitasking>=0.0.7 in /home/linguica/.venv/lib/python3.10/site-packages (from yfinance) (0.0.11)\n",
      "Requirement already satisfied: lxml>=4.9.1 in /home/linguica/.venv/lib/python3.10/site-packages (from yfinance) (5.3.0)\n",
      "Requirement already satisfied: platformdirs>=2.0.0 in /home/linguica/.venv/lib/python3.10/site-packages (from yfinance) (4.3.3)\n",
      "Requirement already satisfied: pytz>=2022.5 in /home/linguica/.venv/lib/python3.10/site-packages (from yfinance) (2024.2)\n",
      "Requirement already satisfied: frozendict>=2.3.4 in /home/linguica/.venv/lib/python3.10/site-packages (from yfinance) (2.4.4)\n",
      "Requirement already satisfied: peewee>=3.16.2 in /home/linguica/.venv/lib/python3.10/site-packages (from yfinance) (3.17.6)\n",
      "Requirement already satisfied: beautifulsoup4>=4.11.1 in /home/linguica/.venv/lib/python3.10/site-packages (from yfinance) (4.12.3)\n",
      "Requirement already satisfied: html5lib>=1.1 in /home/linguica/.venv/lib/python3.10/site-packages (from yfinance) (1.1)\n",
      "Requirement already satisfied: soupsieve>1.2 in /home/linguica/.venv/lib/python3.10/site-packages (from beautifulsoup4>=4.11.1->yfinance) (2.6)\n",
      "Requirement already satisfied: six>=1.9 in /home/linguica/.venv/lib/python3.10/site-packages (from html5lib>=1.1->yfinance) (1.16.0)\n",
      "Requirement already satisfied: webencodings in /home/linguica/.venv/lib/python3.10/site-packages (from html5lib>=1.1->yfinance) (0.5.1)\n",
      "Requirement already satisfied: python-dateutil>=2.8.2 in /home/linguica/.venv/lib/python3.10/site-packages (from pandas>=1.3.0->yfinance) (2.9.0.post0)\n",
      "Requirement already satisfied: tzdata>=2022.7 in /home/linguica/.venv/lib/python3.10/site-packages (from pandas>=1.3.0->yfinance) (2024.1)\n",
      "Requirement already satisfied: charset-normalizer<4,>=2 in /home/linguica/.venv/lib/python3.10/site-packages (from requests>=2.31->yfinance) (3.3.2)\n",
      "Requirement already satisfied: idna<4,>=2.5 in /home/linguica/.venv/lib/python3.10/site-packages (from requests>=2.31->yfinance) (3.10)\n",
      "Requirement already satisfied: urllib3<3,>=1.21.1 in /home/linguica/.venv/lib/python3.10/site-packages (from requests>=2.31->yfinance) (2.2.3)\n",
      "Requirement already satisfied: certifi>=2017.4.17 in /home/linguica/.venv/lib/python3.10/site-packages (from requests>=2.31->yfinance) (2024.8.30)\n",
      "Note: you may need to restart the kernel to use updated packages.\n",
      "Requirement already satisfied: mplfinance in /home/linguica/.venv/lib/python3.10/site-packages (0.12.10b0)\n",
      "Requirement already satisfied: matplotlib in /home/linguica/.venv/lib/python3.10/site-packages (from mplfinance) (3.9.2)\n",
      "Requirement already satisfied: pandas in /home/linguica/.venv/lib/python3.10/site-packages (from mplfinance) (2.2.3)\n",
      "Requirement already satisfied: contourpy>=1.0.1 in /home/linguica/.venv/lib/python3.10/site-packages (from matplotlib->mplfinance) (1.3.0)\n",
      "Requirement already satisfied: cycler>=0.10 in /home/linguica/.venv/lib/python3.10/site-packages (from matplotlib->mplfinance) (0.12.1)\n",
      "Requirement already satisfied: fonttools>=4.22.0 in /home/linguica/.venv/lib/python3.10/site-packages (from matplotlib->mplfinance) (4.54.1)\n",
      "Requirement already satisfied: kiwisolver>=1.3.1 in /home/linguica/.venv/lib/python3.10/site-packages (from matplotlib->mplfinance) (1.4.7)\n",
      "Requirement already satisfied: numpy>=1.23 in /home/linguica/.venv/lib/python3.10/site-packages (from matplotlib->mplfinance) (1.26.4)\n",
      "Requirement already satisfied: packaging>=20.0 in /home/linguica/.venv/lib/python3.10/site-packages (from matplotlib->mplfinance) (24.1)\n",
      "Requirement already satisfied: pillow>=8 in /home/linguica/.venv/lib/python3.10/site-packages (from matplotlib->mplfinance) (10.4.0)\n",
      "Requirement already satisfied: pyparsing>=2.3.1 in /home/linguica/.venv/lib/python3.10/site-packages (from matplotlib->mplfinance) (3.1.4)\n",
      "Requirement already satisfied: python-dateutil>=2.7 in /home/linguica/.venv/lib/python3.10/site-packages (from matplotlib->mplfinance) (2.9.0.post0)\n",
      "Requirement already satisfied: pytz>=2020.1 in /home/linguica/.venv/lib/python3.10/site-packages (from pandas->mplfinance) (2024.2)\n",
      "Requirement already satisfied: tzdata>=2022.7 in /home/linguica/.venv/lib/python3.10/site-packages (from pandas->mplfinance) (2024.1)\n",
      "Requirement already satisfied: six>=1.5 in /home/linguica/.venv/lib/python3.10/site-packages (from python-dateutil>=2.7->matplotlib->mplfinance) (1.16.0)\n",
      "Note: you may need to restart the kernel to use updated packages.\n",
      "Requirement already satisfied: scikit-learn in /home/linguica/.venv/lib/python3.10/site-packages (1.5.2)\n",
      "Requirement already satisfied: numpy>=1.19.5 in /home/linguica/.venv/lib/python3.10/site-packages (from scikit-learn) (1.26.4)\n",
      "Requirement already satisfied: scipy>=1.6.0 in /home/linguica/.venv/lib/python3.10/site-packages (from scikit-learn) (1.14.1)\n",
      "Requirement already satisfied: joblib>=1.2.0 in /home/linguica/.venv/lib/python3.10/site-packages (from scikit-learn) (1.4.2)\n",
      "Requirement already satisfied: threadpoolctl>=3.1.0 in /home/linguica/.venv/lib/python3.10/site-packages (from scikit-learn) (3.5.0)\n",
      "Note: you may need to restart the kernel to use updated packages.\n",
      "Requirement already satisfied: tensorflow in /home/linguica/.venv/lib/python3.10/site-packages (2.17.0)\n",
      "Requirement already satisfied: absl-py>=1.0.0 in /home/linguica/.venv/lib/python3.10/site-packages (from tensorflow) (2.1.0)\n",
      "Requirement already satisfied: astunparse>=1.6.0 in /home/linguica/.venv/lib/python3.10/site-packages (from tensorflow) (1.6.3)\n",
      "Requirement already satisfied: flatbuffers>=24.3.25 in /home/linguica/.venv/lib/python3.10/site-packages (from tensorflow) (24.3.25)\n",
      "Requirement already satisfied: gast!=0.5.0,!=0.5.1,!=0.5.2,>=0.2.1 in /home/linguica/.venv/lib/python3.10/site-packages (from tensorflow) (0.6.0)\n",
      "Requirement already satisfied: google-pasta>=0.1.1 in /home/linguica/.venv/lib/python3.10/site-packages (from tensorflow) (0.2.0)\n",
      "Requirement already satisfied: h5py>=3.10.0 in /home/linguica/.venv/lib/python3.10/site-packages (from tensorflow) (3.11.0)\n",
      "Requirement already satisfied: libclang>=13.0.0 in /home/linguica/.venv/lib/python3.10/site-packages (from tensorflow) (18.1.1)\n",
      "Requirement already satisfied: ml-dtypes<0.5.0,>=0.3.1 in /home/linguica/.venv/lib/python3.10/site-packages (from tensorflow) (0.4.1)\n",
      "Requirement already satisfied: opt-einsum>=2.3.2 in /home/linguica/.venv/lib/python3.10/site-packages (from tensorflow) (3.3.0)\n",
      "Requirement already satisfied: packaging in /home/linguica/.venv/lib/python3.10/site-packages (from tensorflow) (24.1)\n",
      "Requirement already satisfied: protobuf!=4.21.0,!=4.21.1,!=4.21.2,!=4.21.3,!=4.21.4,!=4.21.5,<5.0.0dev,>=3.20.3 in /home/linguica/.venv/lib/python3.10/site-packages (from tensorflow) (4.25.5)\n",
      "Requirement already satisfied: requests<3,>=2.21.0 in /home/linguica/.venv/lib/python3.10/site-packages (from tensorflow) (2.32.3)\n",
      "Requirement already satisfied: setuptools in /home/linguica/.venv/lib/python3.10/site-packages (from tensorflow) (59.6.0)\n",
      "Requirement already satisfied: six>=1.12.0 in /home/linguica/.venv/lib/python3.10/site-packages (from tensorflow) (1.16.0)\n",
      "Requirement already satisfied: termcolor>=1.1.0 in /home/linguica/.venv/lib/python3.10/site-packages (from tensorflow) (2.4.0)\n",
      "Requirement already satisfied: typing-extensions>=3.6.6 in /home/linguica/.venv/lib/python3.10/site-packages (from tensorflow) (4.12.2)\n",
      "Requirement already satisfied: wrapt>=1.11.0 in /home/linguica/.venv/lib/python3.10/site-packages (from tensorflow) (1.16.0)\n",
      "Requirement already satisfied: grpcio<2.0,>=1.24.3 in /home/linguica/.venv/lib/python3.10/site-packages (from tensorflow) (1.66.1)\n",
      "Requirement already satisfied: tensorboard<2.18,>=2.17 in /home/linguica/.venv/lib/python3.10/site-packages (from tensorflow) (2.17.1)\n",
      "Requirement already satisfied: keras>=3.2.0 in /home/linguica/.venv/lib/python3.10/site-packages (from tensorflow) (3.5.0)\n",
      "Requirement already satisfied: tensorflow-io-gcs-filesystem>=0.23.1 in /home/linguica/.venv/lib/python3.10/site-packages (from tensorflow) (0.37.1)\n",
      "Requirement already satisfied: numpy<2.0.0,>=1.23.5 in /home/linguica/.venv/lib/python3.10/site-packages (from tensorflow) (1.26.4)\n",
      "Requirement already satisfied: wheel<1.0,>=0.23.0 in /home/linguica/.venv/lib/python3.10/site-packages (from astunparse>=1.6.0->tensorflow) (0.44.0)\n",
      "Requirement already satisfied: rich in /home/linguica/.venv/lib/python3.10/site-packages (from keras>=3.2.0->tensorflow) (13.8.1)\n",
      "Requirement already satisfied: namex in /home/linguica/.venv/lib/python3.10/site-packages (from keras>=3.2.0->tensorflow) (0.0.8)\n",
      "Requirement already satisfied: optree in /home/linguica/.venv/lib/python3.10/site-packages (from keras>=3.2.0->tensorflow) (0.12.1)\n",
      "Requirement already satisfied: charset-normalizer<4,>=2 in /home/linguica/.venv/lib/python3.10/site-packages (from requests<3,>=2.21.0->tensorflow) (3.3.2)\n",
      "Requirement already satisfied: idna<4,>=2.5 in /home/linguica/.venv/lib/python3.10/site-packages (from requests<3,>=2.21.0->tensorflow) (3.10)\n",
      "Requirement already satisfied: urllib3<3,>=1.21.1 in /home/linguica/.venv/lib/python3.10/site-packages (from requests<3,>=2.21.0->tensorflow) (2.2.3)\n",
      "Requirement already satisfied: certifi>=2017.4.17 in /home/linguica/.venv/lib/python3.10/site-packages (from requests<3,>=2.21.0->tensorflow) (2024.8.30)\n",
      "Requirement already satisfied: markdown>=2.6.8 in /home/linguica/.venv/lib/python3.10/site-packages (from tensorboard<2.18,>=2.17->tensorflow) (3.7)\n",
      "Requirement already satisfied: tensorboard-data-server<0.8.0,>=0.7.0 in /home/linguica/.venv/lib/python3.10/site-packages (from tensorboard<2.18,>=2.17->tensorflow) (0.7.2)\n",
      "Requirement already satisfied: werkzeug>=1.0.1 in /home/linguica/.venv/lib/python3.10/site-packages (from tensorboard<2.18,>=2.17->tensorflow) (3.0.4)\n",
      "Requirement already satisfied: MarkupSafe>=2.1.1 in /home/linguica/.venv/lib/python3.10/site-packages (from werkzeug>=1.0.1->tensorboard<2.18,>=2.17->tensorflow) (2.1.5)\n",
      "Requirement already satisfied: markdown-it-py>=2.2.0 in /home/linguica/.venv/lib/python3.10/site-packages (from rich->keras>=3.2.0->tensorflow) (3.0.0)\n",
      "Requirement already satisfied: pygments<3.0.0,>=2.13.0 in /home/linguica/.venv/lib/python3.10/site-packages (from rich->keras>=3.2.0->tensorflow) (2.18.0)\n",
      "Requirement already satisfied: mdurl~=0.1 in /home/linguica/.venv/lib/python3.10/site-packages (from markdown-it-py>=2.2.0->rich->keras>=3.2.0->tensorflow) (0.1.2)\n",
      "Note: you may need to restart the kernel to use updated packages.\n",
      "Requirement already satisfied: statsmodels in /home/linguica/.venv/lib/python3.10/site-packages (0.14.3)\n",
      "Requirement already satisfied: numpy<3,>=1.22.3 in /home/linguica/.venv/lib/python3.10/site-packages (from statsmodels) (1.26.4)\n",
      "Requirement already satisfied: scipy!=1.9.2,>=1.8 in /home/linguica/.venv/lib/python3.10/site-packages (from statsmodels) (1.14.1)\n",
      "Requirement already satisfied: pandas!=2.1.0,>=1.4 in /home/linguica/.venv/lib/python3.10/site-packages (from statsmodels) (2.2.3)\n",
      "Requirement already satisfied: patsy>=0.5.6 in /home/linguica/.venv/lib/python3.10/site-packages (from statsmodels) (0.5.6)\n",
      "Requirement already satisfied: packaging>=21.3 in /home/linguica/.venv/lib/python3.10/site-packages (from statsmodels) (24.1)\n",
      "Requirement already satisfied: python-dateutil>=2.8.2 in /home/linguica/.venv/lib/python3.10/site-packages (from pandas!=2.1.0,>=1.4->statsmodels) (2.9.0.post0)\n",
      "Requirement already satisfied: pytz>=2020.1 in /home/linguica/.venv/lib/python3.10/site-packages (from pandas!=2.1.0,>=1.4->statsmodels) (2024.2)\n",
      "Requirement already satisfied: tzdata>=2022.7 in /home/linguica/.venv/lib/python3.10/site-packages (from pandas!=2.1.0,>=1.4->statsmodels) (2024.1)\n",
      "Requirement already satisfied: six in /home/linguica/.venv/lib/python3.10/site-packages (from patsy>=0.5.6->statsmodels) (1.16.0)\n",
      "Note: you may need to restart the kernel to use updated packages.\n"
     ]
    }
   ],
   "source": [
    "%pip install yfinance\n",
    "%pip install mplfinance\n",
    "%pip install scikit-learn\n",
    "%pip install tensorflow\n",
    "%pip install statsmodels\n",
    "# !pip install arch"
   ]
  },
  {
   "cell_type": "code",
   "execution_count": 27,
   "metadata": {},
   "outputs": [
    {
     "name": "stdout",
     "output_type": "stream",
     "text": [
      "Versão do TensorFlow: 2.17.0\n"
     ]
    }
   ],
   "source": [
    "import tensorflow as tf\n",
    "print(\"Versão do TensorFlow:\", tf.__version__)"
   ]
  },
  {
   "cell_type": "code",
   "execution_count": 28,
   "metadata": {},
   "outputs": [],
   "source": [
    "import yfinance as yf\n",
    "import matplotlib.pyplot as plt\n",
    "import numpy as np\n",
    "import pandas as pd\n",
    "# from arch import arch_model\n",
    "from sklearn.model_selection import train_test_split\n",
    "from sklearn.preprocessing import StandardScaler\n",
    "from sklearn.linear_model import LogisticRegression\n",
    "from sklearn.metrics import accuracy_score, classification_report\n"
   ]
  },
  {
   "cell_type": "markdown",
   "metadata": {},
   "source": [
    "A condição > 0 verifica se o retorno percentual do próximo dia (shift(-1)) é positivo (ou seja, se o preço vai subir)."
   ]
  },
  {
   "cell_type": "code",
   "execution_count": 29,
   "metadata": {},
   "outputs": [
    {
     "name": "stderr",
     "output_type": "stream",
     "text": [
      "[*********************100%***********************]  1 of 1 completed\n"
     ]
    },
    {
     "data": {
      "text/html": [
       "<div>\n",
       "<style scoped>\n",
       "    .dataframe tbody tr th:only-of-type {\n",
       "        vertical-align: middle;\n",
       "    }\n",
       "\n",
       "    .dataframe tbody tr th {\n",
       "        vertical-align: top;\n",
       "    }\n",
       "\n",
       "    .dataframe thead th {\n",
       "        text-align: right;\n",
       "    }\n",
       "</style>\n",
       "<table border=\"1\" class=\"dataframe\">\n",
       "  <thead>\n",
       "    <tr style=\"text-align: right;\">\n",
       "      <th></th>\n",
       "      <th>Open</th>\n",
       "      <th>High</th>\n",
       "      <th>Low</th>\n",
       "      <th>Close</th>\n",
       "      <th>Adj Close</th>\n",
       "      <th>Volume</th>\n",
       "    </tr>\n",
       "    <tr>\n",
       "      <th>Date</th>\n",
       "      <th></th>\n",
       "      <th></th>\n",
       "      <th></th>\n",
       "      <th></th>\n",
       "      <th></th>\n",
       "      <th></th>\n",
       "    </tr>\n",
       "  </thead>\n",
       "  <tbody>\n",
       "    <tr>\n",
       "      <th>2023-09-25</th>\n",
       "      <td>0.060742</td>\n",
       "      <td>0.061200</td>\n",
       "      <td>0.060545</td>\n",
       "      <td>0.060959</td>\n",
       "      <td>0.060959</td>\n",
       "      <td>117409471</td>\n",
       "    </tr>\n",
       "    <tr>\n",
       "      <th>2023-09-26</th>\n",
       "      <td>0.060956</td>\n",
       "      <td>0.061116</td>\n",
       "      <td>0.059907</td>\n",
       "      <td>0.060599</td>\n",
       "      <td>0.060599</td>\n",
       "      <td>141794234</td>\n",
       "    </tr>\n",
       "    <tr>\n",
       "      <th>2023-09-27</th>\n",
       "      <td>0.060593</td>\n",
       "      <td>0.061332</td>\n",
       "      <td>0.060275</td>\n",
       "      <td>0.060504</td>\n",
       "      <td>0.060504</td>\n",
       "      <td>153818653</td>\n",
       "    </tr>\n",
       "    <tr>\n",
       "      <th>2023-09-28</th>\n",
       "      <td>0.060497</td>\n",
       "      <td>0.061661</td>\n",
       "      <td>0.060406</td>\n",
       "      <td>0.061484</td>\n",
       "      <td>0.061484</td>\n",
       "      <td>137019315</td>\n",
       "    </tr>\n",
       "    <tr>\n",
       "      <th>2023-09-29</th>\n",
       "      <td>0.061486</td>\n",
       "      <td>0.062310</td>\n",
       "      <td>0.061385</td>\n",
       "      <td>0.062178</td>\n",
       "      <td>0.062178</td>\n",
       "      <td>141947701</td>\n",
       "    </tr>\n",
       "    <tr>\n",
       "      <th>...</th>\n",
       "      <td>...</td>\n",
       "      <td>...</td>\n",
       "      <td>...</td>\n",
       "      <td>...</td>\n",
       "      <td>...</td>\n",
       "      <td>...</td>\n",
       "    </tr>\n",
       "    <tr>\n",
       "      <th>2024-09-21</th>\n",
       "      <td>0.105471</td>\n",
       "      <td>0.110373</td>\n",
       "      <td>0.104152</td>\n",
       "      <td>0.110049</td>\n",
       "      <td>0.110049</td>\n",
       "      <td>502306053</td>\n",
       "    </tr>\n",
       "    <tr>\n",
       "      <th>2024-09-22</th>\n",
       "      <td>0.110049</td>\n",
       "      <td>0.110050</td>\n",
       "      <td>0.104020</td>\n",
       "      <td>0.106339</td>\n",
       "      <td>0.106339</td>\n",
       "      <td>480950368</td>\n",
       "    </tr>\n",
       "    <tr>\n",
       "      <th>2024-09-23</th>\n",
       "      <td>0.106339</td>\n",
       "      <td>0.109084</td>\n",
       "      <td>0.104720</td>\n",
       "      <td>0.108156</td>\n",
       "      <td>0.108156</td>\n",
       "      <td>644419670</td>\n",
       "    </tr>\n",
       "    <tr>\n",
       "      <th>2024-09-24</th>\n",
       "      <td>0.108156</td>\n",
       "      <td>0.110468</td>\n",
       "      <td>0.106983</td>\n",
       "      <td>0.109775</td>\n",
       "      <td>0.109775</td>\n",
       "      <td>708492630</td>\n",
       "    </tr>\n",
       "    <tr>\n",
       "      <th>2024-09-25</th>\n",
       "      <td>0.109780</td>\n",
       "      <td>0.110863</td>\n",
       "      <td>0.108404</td>\n",
       "      <td>0.109697</td>\n",
       "      <td>0.109697</td>\n",
       "      <td>698732416</td>\n",
       "    </tr>\n",
       "  </tbody>\n",
       "</table>\n",
       "<p>367 rows × 6 columns</p>\n",
       "</div>"
      ],
      "text/plain": [
       "                Open      High       Low     Close  Adj Close     Volume\n",
       "Date                                                                    \n",
       "2023-09-25  0.060742  0.061200  0.060545  0.060959   0.060959  117409471\n",
       "2023-09-26  0.060956  0.061116  0.059907  0.060599   0.060599  141794234\n",
       "2023-09-27  0.060593  0.061332  0.060275  0.060504   0.060504  153818653\n",
       "2023-09-28  0.060497  0.061661  0.060406  0.061484   0.061484  137019315\n",
       "2023-09-29  0.061486  0.062310  0.061385  0.062178   0.062178  141947701\n",
       "...              ...       ...       ...       ...        ...        ...\n",
       "2024-09-21  0.105471  0.110373  0.104152  0.110049   0.110049  502306053\n",
       "2024-09-22  0.110049  0.110050  0.104020  0.106339   0.106339  480950368\n",
       "2024-09-23  0.106339  0.109084  0.104720  0.108156   0.108156  644419670\n",
       "2024-09-24  0.108156  0.110468  0.106983  0.109775   0.109775  708492630\n",
       "2024-09-25  0.109780  0.110863  0.108404  0.109697   0.109697  698732416\n",
       "\n",
       "[367 rows x 6 columns]"
      ]
     },
     "execution_count": 29,
     "metadata": {},
     "output_type": "execute_result"
    }
   ],
   "source": [
    "# Baixar os dados das ações da DOGE\n",
    "dogecoin = yf.download('DOGE-USD', period='1y')\n",
    "dogecoin\n",
    "\n",
    "# # Buscando os dados da ação da Apple\n",
    "# dogecoin = yf.Ticker('DOGE-USD')\n",
    "# dogecoin_data = dogecoin.history(period='1y')\n",
    "# dogecoin_data.head()"
   ]
  },
  {
   "cell_type": "code",
   "execution_count": 30,
   "metadata": {},
   "outputs": [],
   "source": [
    "# Criar uma coluna de retorno diário\n",
    "dogecoin['Return'] = dogecoin['Close'].pct_change()\n",
    "\n",
    "# Criar a variável target: 1 para subida e 0 para descida\n",
    "dogecoin['Target'] = (dogecoin['Return'].shift(-1) > 0).astype(int)\n",
    "\n",
    "# Remover valores nulos\n",
    "dogecoin.dropna(inplace=True)"
   ]
  },
  {
   "cell_type": "code",
   "execution_count": 31,
   "metadata": {},
   "outputs": [
    {
     "data": {
      "text/html": [
       "<div>\n",
       "<style scoped>\n",
       "    .dataframe tbody tr th:only-of-type {\n",
       "        vertical-align: middle;\n",
       "    }\n",
       "\n",
       "    .dataframe tbody tr th {\n",
       "        vertical-align: top;\n",
       "    }\n",
       "\n",
       "    .dataframe thead th {\n",
       "        text-align: right;\n",
       "    }\n",
       "</style>\n",
       "<table border=\"1\" class=\"dataframe\">\n",
       "  <thead>\n",
       "    <tr style=\"text-align: right;\">\n",
       "      <th></th>\n",
       "      <th>Open</th>\n",
       "      <th>High</th>\n",
       "      <th>Low</th>\n",
       "      <th>Close</th>\n",
       "      <th>Adj Close</th>\n",
       "      <th>Volume</th>\n",
       "      <th>Return</th>\n",
       "      <th>Target</th>\n",
       "    </tr>\n",
       "    <tr>\n",
       "      <th>Date</th>\n",
       "      <th></th>\n",
       "      <th></th>\n",
       "      <th></th>\n",
       "      <th></th>\n",
       "      <th></th>\n",
       "      <th></th>\n",
       "      <th></th>\n",
       "      <th></th>\n",
       "    </tr>\n",
       "  </thead>\n",
       "  <tbody>\n",
       "    <tr>\n",
       "      <th>2023-09-26</th>\n",
       "      <td>0.060956</td>\n",
       "      <td>0.061116</td>\n",
       "      <td>0.059907</td>\n",
       "      <td>0.060599</td>\n",
       "      <td>0.060599</td>\n",
       "      <td>141794234</td>\n",
       "      <td>-0.005906</td>\n",
       "      <td>0</td>\n",
       "    </tr>\n",
       "    <tr>\n",
       "      <th>2023-09-27</th>\n",
       "      <td>0.060593</td>\n",
       "      <td>0.061332</td>\n",
       "      <td>0.060275</td>\n",
       "      <td>0.060504</td>\n",
       "      <td>0.060504</td>\n",
       "      <td>153818653</td>\n",
       "      <td>-0.001568</td>\n",
       "      <td>1</td>\n",
       "    </tr>\n",
       "    <tr>\n",
       "      <th>2023-09-28</th>\n",
       "      <td>0.060497</td>\n",
       "      <td>0.061661</td>\n",
       "      <td>0.060406</td>\n",
       "      <td>0.061484</td>\n",
       "      <td>0.061484</td>\n",
       "      <td>137019315</td>\n",
       "      <td>0.016197</td>\n",
       "      <td>1</td>\n",
       "    </tr>\n",
       "    <tr>\n",
       "      <th>2023-09-29</th>\n",
       "      <td>0.061486</td>\n",
       "      <td>0.062310</td>\n",
       "      <td>0.061385</td>\n",
       "      <td>0.062178</td>\n",
       "      <td>0.062178</td>\n",
       "      <td>141947701</td>\n",
       "      <td>0.011287</td>\n",
       "      <td>0</td>\n",
       "    </tr>\n",
       "    <tr>\n",
       "      <th>2023-09-30</th>\n",
       "      <td>0.062180</td>\n",
       "      <td>0.062506</td>\n",
       "      <td>0.061799</td>\n",
       "      <td>0.062141</td>\n",
       "      <td>0.062141</td>\n",
       "      <td>124411353</td>\n",
       "      <td>-0.000595</td>\n",
       "      <td>1</td>\n",
       "    </tr>\n",
       "  </tbody>\n",
       "</table>\n",
       "</div>"
      ],
      "text/plain": [
       "                Open      High       Low     Close  Adj Close     Volume  \\\n",
       "Date                                                                       \n",
       "2023-09-26  0.060956  0.061116  0.059907  0.060599   0.060599  141794234   \n",
       "2023-09-27  0.060593  0.061332  0.060275  0.060504   0.060504  153818653   \n",
       "2023-09-28  0.060497  0.061661  0.060406  0.061484   0.061484  137019315   \n",
       "2023-09-29  0.061486  0.062310  0.061385  0.062178   0.062178  141947701   \n",
       "2023-09-30  0.062180  0.062506  0.061799  0.062141   0.062141  124411353   \n",
       "\n",
       "              Return  Target  \n",
       "Date                          \n",
       "2023-09-26 -0.005906       0  \n",
       "2023-09-27 -0.001568       1  \n",
       "2023-09-28  0.016197       1  \n",
       "2023-09-29  0.011287       0  \n",
       "2023-09-30 -0.000595       1  "
      ]
     },
     "execution_count": 31,
     "metadata": {},
     "output_type": "execute_result"
    }
   ],
   "source": [
    "dogecoin.head()"
   ]
  },
  {
   "cell_type": "markdown",
   "metadata": {},
   "source": [
    "**Relação entre o preço de fechamento (Close) e o preço de abertura (Open)**"
   ]
  },
  {
   "cell_type": "code",
   "execution_count": 32,
   "metadata": {},
   "outputs": [],
   "source": [
    "# Supondo que o dataset já está carregado em um DataFrame chamado df\n",
    "dogecoin['Close/Open'] = dogecoin['Close'] / dogecoin['Open']"
   ]
  },
  {
   "cell_type": "code",
   "execution_count": 33,
   "metadata": {},
   "outputs": [
    {
     "data": {
      "text/html": [
       "<div>\n",
       "<style scoped>\n",
       "    .dataframe tbody tr th:only-of-type {\n",
       "        vertical-align: middle;\n",
       "    }\n",
       "\n",
       "    .dataframe tbody tr th {\n",
       "        vertical-align: top;\n",
       "    }\n",
       "\n",
       "    .dataframe thead th {\n",
       "        text-align: right;\n",
       "    }\n",
       "</style>\n",
       "<table border=\"1\" class=\"dataframe\">\n",
       "  <thead>\n",
       "    <tr style=\"text-align: right;\">\n",
       "      <th></th>\n",
       "      <th>Open</th>\n",
       "      <th>High</th>\n",
       "      <th>Low</th>\n",
       "      <th>Close</th>\n",
       "      <th>Adj Close</th>\n",
       "      <th>Volume</th>\n",
       "      <th>Return</th>\n",
       "      <th>Target</th>\n",
       "      <th>Close/Open</th>\n",
       "    </tr>\n",
       "    <tr>\n",
       "      <th>Date</th>\n",
       "      <th></th>\n",
       "      <th></th>\n",
       "      <th></th>\n",
       "      <th></th>\n",
       "      <th></th>\n",
       "      <th></th>\n",
       "      <th></th>\n",
       "      <th></th>\n",
       "      <th></th>\n",
       "    </tr>\n",
       "  </thead>\n",
       "  <tbody>\n",
       "    <tr>\n",
       "      <th>2023-09-26</th>\n",
       "      <td>0.060956</td>\n",
       "      <td>0.061116</td>\n",
       "      <td>0.059907</td>\n",
       "      <td>0.060599</td>\n",
       "      <td>0.060599</td>\n",
       "      <td>141794234</td>\n",
       "      <td>-0.005906</td>\n",
       "      <td>0</td>\n",
       "      <td>0.994143</td>\n",
       "    </tr>\n",
       "    <tr>\n",
       "      <th>2023-09-27</th>\n",
       "      <td>0.060593</td>\n",
       "      <td>0.061332</td>\n",
       "      <td>0.060275</td>\n",
       "      <td>0.060504</td>\n",
       "      <td>0.060504</td>\n",
       "      <td>153818653</td>\n",
       "      <td>-0.001568</td>\n",
       "      <td>1</td>\n",
       "      <td>0.998531</td>\n",
       "    </tr>\n",
       "    <tr>\n",
       "      <th>2023-09-28</th>\n",
       "      <td>0.060497</td>\n",
       "      <td>0.061661</td>\n",
       "      <td>0.060406</td>\n",
       "      <td>0.061484</td>\n",
       "      <td>0.061484</td>\n",
       "      <td>137019315</td>\n",
       "      <td>0.016197</td>\n",
       "      <td>1</td>\n",
       "      <td>1.016315</td>\n",
       "    </tr>\n",
       "    <tr>\n",
       "      <th>2023-09-29</th>\n",
       "      <td>0.061486</td>\n",
       "      <td>0.062310</td>\n",
       "      <td>0.061385</td>\n",
       "      <td>0.062178</td>\n",
       "      <td>0.062178</td>\n",
       "      <td>141947701</td>\n",
       "      <td>0.011287</td>\n",
       "      <td>0</td>\n",
       "      <td>1.011255</td>\n",
       "    </tr>\n",
       "    <tr>\n",
       "      <th>2023-09-30</th>\n",
       "      <td>0.062180</td>\n",
       "      <td>0.062506</td>\n",
       "      <td>0.061799</td>\n",
       "      <td>0.062141</td>\n",
       "      <td>0.062141</td>\n",
       "      <td>124411353</td>\n",
       "      <td>-0.000595</td>\n",
       "      <td>1</td>\n",
       "      <td>0.999373</td>\n",
       "    </tr>\n",
       "  </tbody>\n",
       "</table>\n",
       "</div>"
      ],
      "text/plain": [
       "                Open      High       Low     Close  Adj Close     Volume  \\\n",
       "Date                                                                       \n",
       "2023-09-26  0.060956  0.061116  0.059907  0.060599   0.060599  141794234   \n",
       "2023-09-27  0.060593  0.061332  0.060275  0.060504   0.060504  153818653   \n",
       "2023-09-28  0.060497  0.061661  0.060406  0.061484   0.061484  137019315   \n",
       "2023-09-29  0.061486  0.062310  0.061385  0.062178   0.062178  141947701   \n",
       "2023-09-30  0.062180  0.062506  0.061799  0.062141   0.062141  124411353   \n",
       "\n",
       "              Return  Target  Close/Open  \n",
       "Date                                      \n",
       "2023-09-26 -0.005906       0    0.994143  \n",
       "2023-09-27 -0.001568       1    0.998531  \n",
       "2023-09-28  0.016197       1    1.016315  \n",
       "2023-09-29  0.011287       0    1.011255  \n",
       "2023-09-30 -0.000595       1    0.999373  "
      ]
     },
     "execution_count": 33,
     "metadata": {},
     "output_type": "execute_result"
    }
   ],
   "source": [
    "dogecoin.head()"
   ]
  },
  {
   "cell_type": "markdown",
   "metadata": {},
   "source": [
    "Descrição das colunas: \n",
    "- Open: Preço de abertura da Dogecoin em um determinado dia. Esse valor reflete o primeiro preço pelo qual a Dogecoin foi negociada no dia.\n",
    "\n",
    "- High: O preço máximo atingido pela Dogecoin no dia.\n",
    "\n",
    "- Low: O preço mínimo atingido pela Dogecoin no dia.\n",
    "\n",
    "- Close: Preço de fechamento da Dogecoin no dia. Este é o último valor pelo qual a Dogecoin foi negociada.\n",
    "\n",
    "- Adj Close: Preço de fechamento ajustado para dividendos, splits, etc. Como no caso de criptomoedas, ele geralmente coincide com o valor de Close, **essa coluna será removida.**\n",
    "\n",
    "- Volume: Número total de moedas negociadas no dia.\n",
    "\n",
    "- Return: Variação percentual diária entre o preço de fechamento de um dia e o do dia anterior.\n",
    "\n",
    "- Target: Valor binário (1 ou 0) indicando se o preço da Dogecoin irá subir ou descer no dia seguinte. Ele é calculado com base no retorno do próximo dia.\n",
    "\n",
    "- Close/Open: Razão entre o preço de fechamento e o preço de abertura no mesmo dia."
   ]
  },
  {
   "cell_type": "code",
   "execution_count": 34,
   "metadata": {},
   "outputs": [
    {
     "data": {
      "text/plain": [
       "Index(['Open', 'High', 'Low', 'Close', 'Adj Close', 'Volume', 'Return',\n",
       "       'Target', 'Close/Open'],\n",
       "      dtype='object')"
      ]
     },
     "execution_count": 34,
     "metadata": {},
     "output_type": "execute_result"
    }
   ],
   "source": [
    "dogecoin.columns"
   ]
  },
  {
   "cell_type": "code",
   "execution_count": 35,
   "metadata": {},
   "outputs": [
    {
     "data": {
      "text/html": [
       "<div>\n",
       "<style scoped>\n",
       "    .dataframe tbody tr th:only-of-type {\n",
       "        vertical-align: middle;\n",
       "    }\n",
       "\n",
       "    .dataframe tbody tr th {\n",
       "        vertical-align: top;\n",
       "    }\n",
       "\n",
       "    .dataframe thead th {\n",
       "        text-align: right;\n",
       "    }\n",
       "</style>\n",
       "<table border=\"1\" class=\"dataframe\">\n",
       "  <thead>\n",
       "    <tr style=\"text-align: right;\">\n",
       "      <th></th>\n",
       "      <th>Open</th>\n",
       "      <th>High</th>\n",
       "      <th>Low</th>\n",
       "      <th>Close</th>\n",
       "      <th>Volume</th>\n",
       "      <th>Return</th>\n",
       "      <th>Target</th>\n",
       "      <th>Close/Open</th>\n",
       "    </tr>\n",
       "    <tr>\n",
       "      <th>Date</th>\n",
       "      <th></th>\n",
       "      <th></th>\n",
       "      <th></th>\n",
       "      <th></th>\n",
       "      <th></th>\n",
       "      <th></th>\n",
       "      <th></th>\n",
       "      <th></th>\n",
       "    </tr>\n",
       "  </thead>\n",
       "  <tbody>\n",
       "    <tr>\n",
       "      <th>2023-09-26</th>\n",
       "      <td>0.060956</td>\n",
       "      <td>0.061116</td>\n",
       "      <td>0.059907</td>\n",
       "      <td>0.060599</td>\n",
       "      <td>141794234</td>\n",
       "      <td>-0.005906</td>\n",
       "      <td>0</td>\n",
       "      <td>0.994143</td>\n",
       "    </tr>\n",
       "    <tr>\n",
       "      <th>2023-09-27</th>\n",
       "      <td>0.060593</td>\n",
       "      <td>0.061332</td>\n",
       "      <td>0.060275</td>\n",
       "      <td>0.060504</td>\n",
       "      <td>153818653</td>\n",
       "      <td>-0.001568</td>\n",
       "      <td>1</td>\n",
       "      <td>0.998531</td>\n",
       "    </tr>\n",
       "    <tr>\n",
       "      <th>2023-09-28</th>\n",
       "      <td>0.060497</td>\n",
       "      <td>0.061661</td>\n",
       "      <td>0.060406</td>\n",
       "      <td>0.061484</td>\n",
       "      <td>137019315</td>\n",
       "      <td>0.016197</td>\n",
       "      <td>1</td>\n",
       "      <td>1.016315</td>\n",
       "    </tr>\n",
       "    <tr>\n",
       "      <th>2023-09-29</th>\n",
       "      <td>0.061486</td>\n",
       "      <td>0.062310</td>\n",
       "      <td>0.061385</td>\n",
       "      <td>0.062178</td>\n",
       "      <td>141947701</td>\n",
       "      <td>0.011287</td>\n",
       "      <td>0</td>\n",
       "      <td>1.011255</td>\n",
       "    </tr>\n",
       "    <tr>\n",
       "      <th>2023-09-30</th>\n",
       "      <td>0.062180</td>\n",
       "      <td>0.062506</td>\n",
       "      <td>0.061799</td>\n",
       "      <td>0.062141</td>\n",
       "      <td>124411353</td>\n",
       "      <td>-0.000595</td>\n",
       "      <td>1</td>\n",
       "      <td>0.999373</td>\n",
       "    </tr>\n",
       "  </tbody>\n",
       "</table>\n",
       "</div>"
      ],
      "text/plain": [
       "                Open      High       Low     Close     Volume    Return  \\\n",
       "Date                                                                      \n",
       "2023-09-26  0.060956  0.061116  0.059907  0.060599  141794234 -0.005906   \n",
       "2023-09-27  0.060593  0.061332  0.060275  0.060504  153818653 -0.001568   \n",
       "2023-09-28  0.060497  0.061661  0.060406  0.061484  137019315  0.016197   \n",
       "2023-09-29  0.061486  0.062310  0.061385  0.062178  141947701  0.011287   \n",
       "2023-09-30  0.062180  0.062506  0.061799  0.062141  124411353 -0.000595   \n",
       "\n",
       "            Target  Close/Open  \n",
       "Date                            \n",
       "2023-09-26       0    0.994143  \n",
       "2023-09-27       1    0.998531  \n",
       "2023-09-28       1    1.016315  \n",
       "2023-09-29       0    1.011255  \n",
       "2023-09-30       1    0.999373  "
      ]
     },
     "execution_count": 35,
     "metadata": {},
     "output_type": "execute_result"
    }
   ],
   "source": [
    "dogecoin.drop(columns=['Adj Close'], inplace=True)\n",
    "dogecoin.head()"
   ]
  },
  {
   "cell_type": "code",
   "execution_count": 36,
   "metadata": {},
   "outputs": [],
   "source": [
    "# # 5. Rescale the returns for better GARCH parameter estimation (recomended)\n",
    "# dogecoin['Return_scaled'] = dogecoin['Return'] * 100"
   ]
  },
  {
   "cell_type": "markdown",
   "metadata": {},
   "source": [
    "Normalização dos dados"
   ]
  },
  {
   "cell_type": "code",
   "execution_count": 37,
   "metadata": {},
   "outputs": [],
   "source": [
    "import math\n",
    "import numpy as np\n",
    "  \n",
    "# Normalização Z-score\n",
    "for column in dogecoin.columns:\n",
    "    dogecoin[column] = (dogecoin[column] - dogecoin[column].mean()) / dogecoin[column].std()"
   ]
  },
  {
   "cell_type": "markdown",
   "metadata": {},
   "source": [
    "Analise dos dados"
   ]
  },
  {
   "cell_type": "code",
   "execution_count": 38,
   "metadata": {},
   "outputs": [],
   "source": [
    "import yfinance as yf\n",
    "import pandas as pd\n",
    "import matplotlib.pyplot as plt\n",
    "import numpy as np\n",
    "import mplfinance as mpf\n",
    "from numpy.polynomial import Polynomial\n",
    "from scipy import stats\n",
    "from sklearn.ensemble import IsolationForest\n",
    "from sklearn.preprocessing import MinMaxScaler\n",
    "import tensorflow as tf\n",
    "from tensorflow.keras.models import Sequential\n",
    "from tensorflow.keras.layers import LSTM, Dense\n",
    "from statsmodels.tsa.arima.model import ARIMA\n",
    "from sklearn.metrics import mean_squared_error\n",
    "# from arch import arch_model"
   ]
  },
  {
   "cell_type": "code",
   "execution_count": 39,
   "metadata": {},
   "outputs": [
    {
     "ename": "IndexError",
     "evalue": "only integers, slices (`:`), ellipsis (`...`), numpy.newaxis (`None`) and integer or boolean arrays are valid indices",
     "output_type": "error",
     "traceback": [
      "\u001b[0;31m---------------------------------------------------------------------------\u001b[0m",
      "\u001b[0;31mIndexError\u001b[0m                                Traceback (most recent call last)",
      "Cell \u001b[0;32mIn[39], line 4\u001b[0m\n\u001b[1;32m      1\u001b[0m \u001b[38;5;28;01mfrom\u001b[39;00m \u001b[38;5;21;01mnumpy\u001b[39;00m\u001b[38;5;21;01m.\u001b[39;00m\u001b[38;5;21;01mpolynomial\u001b[39;00m \u001b[38;5;28;01mimport\u001b[39;00m Polynomial\n\u001b[1;32m      3\u001b[0m \u001b[38;5;66;03m# Ajuste polinomial de grau 3, por exemplo\u001b[39;00m\n\u001b[0;32m----> 4\u001b[0m coefs \u001b[38;5;241m=\u001b[39m Polynomial\u001b[38;5;241m.\u001b[39mfit(\u001b[43mX\u001b[49m\u001b[43m[\u001b[49m\u001b[38;5;124;43m'\u001b[39;49m\u001b[38;5;124;43mDate_Ordinal\u001b[39;49m\u001b[38;5;124;43m'\u001b[39;49m\u001b[43m]\u001b[49m, y, \u001b[38;5;241m3\u001b[39m)\n\u001b[1;32m      5\u001b[0m dogecoin[\u001b[38;5;124m'\u001b[39m\u001b[38;5;124mPolynomial_Trend\u001b[39m\u001b[38;5;124m'\u001b[39m] \u001b[38;5;241m=\u001b[39m coefs(X[\u001b[38;5;124m'\u001b[39m\u001b[38;5;124mDate_Ordinal\u001b[39m\u001b[38;5;124m'\u001b[39m])\n\u001b[1;32m      7\u001b[0m plt\u001b[38;5;241m.\u001b[39mfigure(figsize\u001b[38;5;241m=\u001b[39m(\u001b[38;5;241m12\u001b[39m, \u001b[38;5;241m6\u001b[39m))\n",
      "\u001b[0;31mIndexError\u001b[0m: only integers, slices (`:`), ellipsis (`...`), numpy.newaxis (`None`) and integer or boolean arrays are valid indices"
     ]
    }
   ],
   "source": [
    "\n",
    "from numpy.polynomial import Polynomial\n",
    "\n",
    "# Ajuste polinomial de grau 3, por exemplo\n",
    "coefs = Polynomial.fit(X['Date_Ordinal'], y, 3)\n",
    "dogecoin['Polynomial_Trend'] = coefs(X['Date_Ordinal'])\n",
    "\n",
    "plt.figure(figsize=(12, 6))\n",
    "plt.plot(dogecoin['Close'], label='Preço de Fechamento', color='blue')\n",
    "plt.plot(dogecoin['Polynomial_Trend'], label='Tendência Polinomial', color='orange')\n",
    "plt.title('Tendência Polinomial')\n",
    "plt.xlabel('Data')\n",
    "plt.ylabel('Preço de Fechamento (USD)')\n",
    "plt.legend()\n",
    "plt.grid(True)\n",
    "plt.show()"
   ]
  },
  {
   "cell_type": "markdown",
   "metadata": {},
   "source": [
    "# Criação do modelo V1oooooo"
   ]
  },
  {
   "cell_type": "code",
   "execution_count": 40,
   "metadata": {},
   "outputs": [],
   "source": [
    "from sklearn.preprocessing import MinMaxScaler\n",
    "import numpy as np\n",
    "\n",
    "# 1. Extraindo e normalizando os dados\n",
    "df = dogecoin[['Close']].dropna()\n",
    "scaler = MinMaxScaler(feature_range=(0, 1))\n",
    "scaled_data = scaler.fit_transform(df)\n",
    "\n",
    "# 2. Função para criar sequências\n",
    "def create_sequences(data, time_steps=60):\n",
    "    X, y = [], []\n",
    "    for i in range(len(data) - time_steps):\n",
    "        X.append(data[i:i + time_steps, 0])\n",
    "        y.append(data[i + time_steps, 0])\n",
    "    return np.array(X), np.array(y)\n",
    "\n",
    "# 3. Criar sequências\n",
    "time_steps = 60\n",
    "X, y = create_sequences(scaled_data, time_steps)\n",
    "\n",
    "# 4. Reshape dos dados\n",
    "X = np.reshape(X, (X.shape[0], X.shape[1], 1))\n",
    "\n",
    "# 5. Dividir os dados em treino e teste\n",
    "split = int(X.shape[0] * 0.8)\n",
    "X_train, y_train = X[:split], y[:split]\n",
    "X_test, y_test = X[split:], y[split:]"
   ]
  },
  {
   "cell_type": "code",
   "execution_count": 41,
   "metadata": {},
   "outputs": [
    {
     "name": "stdout",
     "output_type": "stream",
     "text": [
      "Forma de X_train: (244, 60, 1)\n",
      "Forma de y_train: (244,)\n"
     ]
    }
   ],
   "source": [
    "print(\"Forma de X_train:\", X_train.shape)  # Deve ser (n_samples, 60, 1)\n",
    "print(\"Forma de y_train:\", y_train.shape)    # Deve ser (n_samples,)"
   ]
  },
  {
   "cell_type": "code",
   "execution_count": 42,
   "metadata": {},
   "outputs": [
    {
     "name": "stdout",
     "output_type": "stream",
     "text": [
      "Epoch 1/5\n"
     ]
    },
    {
     "name": "stderr",
     "output_type": "stream",
     "text": [
      "/home/linguica/.venv/lib/python3.10/site-packages/keras/src/layers/rnn/rnn.py:204: UserWarning: Do not pass an `input_shape`/`input_dim` argument to a layer. When using Sequential models, prefer using an `Input(shape)` object as the first layer in the model instead.\n",
      "  super().__init__(**kwargs)\n"
     ]
    },
    {
     "name": "stdout",
     "output_type": "stream",
     "text": [
      "\u001b[1m10/10\u001b[0m \u001b[32m━━━━━━━━━━━━━━━━━━━━\u001b[0m\u001b[37m\u001b[0m \u001b[1m1s\u001b[0m 6ms/step - loss: 0.4344 \n",
      "Epoch 2/5\n",
      "\u001b[1m10/10\u001b[0m \u001b[32m━━━━━━━━━━━━━━━━━━━━\u001b[0m\u001b[37m\u001b[0m \u001b[1m0s\u001b[0m 8ms/step - loss: 0.1510\n",
      "Epoch 3/5\n",
      "\u001b[1m10/10\u001b[0m \u001b[32m━━━━━━━━━━━━━━━━━━━━\u001b[0m\u001b[37m\u001b[0m \u001b[1m0s\u001b[0m 7ms/step - loss: 0.0748    \n",
      "Epoch 4/5\n",
      "\u001b[1m10/10\u001b[0m \u001b[32m━━━━━━━━━━━━━━━━━━━━\u001b[0m\u001b[37m\u001b[0m \u001b[1m0s\u001b[0m 6ms/step - loss: 0.0937\n",
      "Epoch 5/5\n",
      "\u001b[1m10/10\u001b[0m \u001b[32m━━━━━━━━━━━━━━━━━━━━\u001b[0m\u001b[37m\u001b[0m \u001b[1m0s\u001b[0m 6ms/step - loss: 0.1557\n"
     ]
    }
   ],
   "source": [
    "import numpy as np\n",
    "from tensorflow.keras.models import Sequential\n",
    "from tensorflow.keras.layers import LSTM, Dense, Dropout\n",
    "\n",
    "# Criar um conjunto de dados aleatório\n",
    "X_test_random = np.random.rand(10, 60, 1)  # 10 amostras, 60 timesteps, 1 feature\n",
    "y_test_random = np.random.rand(10)\n",
    "\n",
    "# Construir o modelo LSTM\n",
    "model = Sequential()\n",
    "model.add(LSTM(units=50, return_sequences=True, input_shape=(X_test_random.shape[1], 1)))\n",
    "model.add(Dropout(0.2))\n",
    "model.add(LSTM(units=50, return_sequences=False))\n",
    "model.add(Dropout(0.2))\n",
    "model.add(Dense(units=1))\n",
    "\n",
    "# Compilar o modelo\n",
    "model.compile(optimizer='adam', loss='mean_squared_error')\n",
    "\n",
    "# Tentar treinar o modelo com dados aleatórios\n",
    "history = model.fit(X_test_random, y_test_random, epochs=5, batch_size=1)\n"
   ]
  },
  {
   "cell_type": "code",
   "execution_count": 43,
   "metadata": {},
   "outputs": [
    {
     "name": "stdout",
     "output_type": "stream",
     "text": [
      "\u001b[1m1/2\u001b[0m \u001b[32m━━━━━━━━━━\u001b[0m\u001b[37m━━━━━━━━━━\u001b[0m \u001b[1m0s\u001b[0m 88ms/step"
     ]
    },
    {
     "name": "stdout",
     "output_type": "stream",
     "text": [
      "\u001b[1m2/2\u001b[0m \u001b[32m━━━━━━━━━━━━━━━━━━━━\u001b[0m\u001b[37m\u001b[0m \u001b[1m0s\u001b[0m 86ms/step\n"
     ]
    },
    {
     "data": {
      "image/png": "[encoded data removed]",
      "text/plain": [
       "<Figure size 1000x600 with 1 Axes>"
      ]
     },
     "metadata": {},
     "output_type": "display_data"
    }
   ],
   "source": [
    "# Fazer previsões sobre os dados de teste\n",
    "predicted_prices = model.predict(X_test)\n",
    "\n",
    "# Desfazer a normalização para os valores previstos e reais\n",
    "predicted_prices = scaler.inverse_transform(predicted_prices.reshape(-1, 1))\n",
    "real_prices = scaler.inverse_transform(y_test.reshape(-1, 1))\n",
    "\n",
    "# Plotar os preços reais vs preços previstos\n",
    "plt.figure(figsize=(10, 6))\n",
    "plt.plot(real_prices, color='blue', label='Preços Reais')\n",
    "plt.plot(predicted_prices, color='red', label='Preços Previstos')\n",
    "plt.title('Previsão de Preços de Criptoativos usando LSTM')\n",
    "plt.xlabel('Tempo')\n",
    "plt.ylabel('Preço')\n",
    "plt.legend()\n",
    "plt.show()"
   ]
  },
  {
   "cell_type": "code",
   "execution_count": 44,
   "metadata": {},
   "outputs": [],
   "source": [
    "def predict_future_days(model, last_sequence, num_days, scaler):\n",
    "    future_predictions = []\n",
    "    current_sequence = last_sequence\n",
    "\n",
    "    for _ in range(num_days):\n",
    "        # Fazer a previsão para o próximo dia\n",
    "        next_prediction = model.predict(current_sequence)\n",
    "        \n",
    "        # Armazenar a previsão\n",
    "        future_predictions.append(next_prediction[0, 0])\n",
    "        \n",
    "        # Redimensionar a previsão para ser compatível com a sequência de entrada\n",
    "        next_prediction_reshaped = np.reshape(next_prediction, (1, 1, 1))\n",
    "        \n",
    "        # Atualizar a sequência com o valor previsto (remover o valor mais antigo e adicionar o novo)\n",
    "        current_sequence = np.append(current_sequence[:, 1:, :], next_prediction_reshaped, axis=1)\n",
    "\n",
    "    # Desfazer a normalização dos valores previstos\n",
    "    future_predictions = scaler.inverse_transform(np.array(future_predictions).reshape(-1, 1))\n",
    "\n",
    "    return future_predictions"
   ]
  },
  {
   "cell_type": "code",
   "execution_count": 45,
   "metadata": {},
   "outputs": [
    {
     "name": "stdout",
     "output_type": "stream",
     "text": [
      "\u001b[1m1/1\u001b[0m \u001b[32m━━━━━━━━━━━━━━━━━━━━\u001b[0m\u001b[37m\u001b[0m \u001b[1m0s\u001b[0m 11ms/step\n",
      "\u001b[1m1/1\u001b[0m \u001b[32m━━━━━━━━━━━━━━━━━━━━\u001b[0m\u001b[37m\u001b[0m \u001b[1m0s\u001b[0m 10ms/step\n",
      "\u001b[1m1/1\u001b[0m \u001b[32m━━━━━━━━━━━━━━━━━━━━\u001b[0m\u001b[37m\u001b[0m \u001b[1m0s\u001b[0m 9ms/step\n",
      "\u001b[1m1/1\u001b[0m \u001b[32m━━━━━━━━━━━━━━━━━━━━\u001b[0m\u001b[37m\u001b[0m \u001b[1m0s\u001b[0m 9ms/step\n",
      "\u001b[1m1/1\u001b[0m \u001b[32m━━━━━━━━━━━━━━━━━━━━\u001b[0m\u001b[37m\u001b[0m \u001b[1m0s\u001b[0m 10ms/step\n",
      "\u001b[1m1/1\u001b[0m \u001b[32m━━━━━━━━━━━━━━━━━━━━\u001b[0m\u001b[37m\u001b[0m \u001b[1m0s\u001b[0m 10ms/step\n",
      "\u001b[1m1/1\u001b[0m \u001b[32m━━━━━━━━━━━━━━━━━━━━\u001b[0m\u001b[37m\u001b[0m \u001b[1m0s\u001b[0m 9ms/step\n",
      "Previsão para o dia 1: 0.34\n",
      "Previsão para o dia 2: 0.37\n",
      "Previsão para o dia 3: 0.40\n",
      "Previsão para o dia 4: 0.43\n",
      "Previsão para o dia 5: 0.47\n",
      "Previsão para o dia 6: 0.51\n",
      "Previsão para o dia 7: 0.55\n"
     ]
    }
   ],
   "source": [
    "# Pegar os últimos `time_steps` do conjunto de dados de teste\n",
    "last_sequence = scaled_data[-time_steps:].reshape(1, time_steps, 1)\n",
    "\n",
    "# Prever para os próximos 7 dias\n",
    "num_days = 7\n",
    "future_prices = predict_future_days(model, last_sequence, num_days, scaler)\n",
    "\n",
    "# Exibir as previsões para os próximos 7 dias\n",
    "for i, price in enumerate(future_prices):\n",
    "    print(f\"Previsão para o dia {i+1}: {price[0]:.2f}\")"
   ]
  },
  {
   "cell_type": "code",
   "execution_count": 46,
   "metadata": {},
   "outputs": [
    {
     "name": "stdout",
     "output_type": "stream",
     "text": [
      "\u001b[1m2/2\u001b[0m \u001b[32m━━━━━━━━━━━━━━━━━━━━\u001b[0m\u001b[37m\u001b[0m \u001b[1m0s\u001b[0m 3ms/step \n",
      "\u001b[1m1/1\u001b[0m \u001b[32m━━━━━━━━━━━━━━━━━━━━\u001b[0m\u001b[37m\u001b[0m \u001b[1m0s\u001b[0m 9ms/step\n",
      "\u001b[1m1/1\u001b[0m \u001b[32m━━━━━━━━━━━━━━━━━━━━\u001b[0m\u001b[37m\u001b[0m \u001b[1m0s\u001b[0m 9ms/step\n"
     ]
    },
    {
     "name": "stdout",
     "output_type": "stream",
     "text": [
      "\u001b[1m1/1\u001b[0m \u001b[32m━━━━━━━━━━━━━━━━━━━━\u001b[0m\u001b[37m\u001b[0m \u001b[1m0s\u001b[0m 10ms/step\n",
      "\u001b[1m1/1\u001b[0m \u001b[32m━━━━━━━━━━━━━━━━━━━━\u001b[0m\u001b[37m\u001b[0m \u001b[1m0s\u001b[0m 9ms/step\n",
      "\u001b[1m1/1\u001b[0m \u001b[32m━━━━━━━━━━━━━━━━━━━━\u001b[0m\u001b[37m\u001b[0m \u001b[1m0s\u001b[0m 9ms/step\n",
      "\u001b[1m1/1\u001b[0m \u001b[32m━━━━━━━━━━━━━━━━━━━━\u001b[0m\u001b[37m\u001b[0m \u001b[1m0s\u001b[0m 9ms/step\n",
      "\u001b[1m1/1\u001b[0m \u001b[32m━━━━━━━━━━━━━━━━━━━━\u001b[0m\u001b[37m\u001b[0m \u001b[1m0s\u001b[0m 9ms/step\n"
     ]
    },
    {
     "data": {
      "image/png": "[encoded data removed]",
      "text/plain": [
       "<Figure size 1200x800 with 1 Axes>"
      ]
     },
     "metadata": {},
     "output_type": "display_data"
    }
   ],
   "source": [
    "# Fazer previsões sobre os dados de teste\n",
    "predicted_prices = model.predict(X_test)\n",
    "\n",
    "# Desfazer a normalização para os valores previstos e reais\n",
    "predicted_prices = scaler.inverse_transform(predicted_prices.reshape(-1, 1))\n",
    "real_prices = scaler.inverse_transform(y_test.reshape(-1, 1))\n",
    "\n",
    "# Prever os próximos 7 dias\n",
    "num_days = 7\n",
    "last_sequence = scaled_data[-time_steps:].reshape(1, time_steps, 1)\n",
    "future_prices = predict_future_days(model, last_sequence, num_days, scaler)\n",
    "\n",
    "# Criar um vetor de tempo para as previsões futuras\n",
    "future_time = np.arange(len(real_prices), len(real_prices) + num_days)\n",
    "\n",
    "# Plotar os preços reais, preços previstos e previsões futuras\n",
    "plt.figure(figsize=(12, 8))\n",
    "\n",
    "# Plotar os dados reais\n",
    "plt.plot(real_prices, color='blue', label='Preços Reais')\n",
    "\n",
    "# Plotar os dados previstos para o conjunto de teste\n",
    "plt.plot(predicted_prices, color='red', label='Preços Previstos')\n",
    "\n",
    "# Adicionar as previsões dos próximos 7 dias\n",
    "plt.plot(future_time, future_prices, color='green', label='Previsões Futuras (7 dias)', linestyle='dashed')\n",
    "\n",
    "# Ajustar o gráfico\n",
    "plt.title('Previsão de Preços de Criptoativos usando LSTM')\n",
    "plt.xlabel('Tempo')\n",
    "plt.ylabel('Preço')\n",
    "plt.legend()\n",
    "plt.show()"
   ]
  },
  {
   "cell_type": "code",
   "execution_count": 47,
   "metadata": {},
   "outputs": [
    {
     "name": "stdout",
     "output_type": "stream",
     "text": [
      "Modelo salvo como 'model_lstm.pkl'\n"
     ]
    }
   ],
   "source": [
    "import pickle\n",
    "\n",
    "# Supondo que `model` é o seu modelo treinado\n",
    "with open('model_lstm.pkl', 'wb') as f:\n",
    "    pickle.dump(model, f)\n",
    "\n",
    "print(\"Modelo salvo como 'model_lstm.pkl'\")"
   ]
  },
  {
   "cell_type": "code",
   "execution_count": null,
   "metadata": {},
   "outputs": [],
   "source": []
  }
 ],
 "metadata": {
  "kernelspec": {
   "display_name": "Python 3 (ipykernel)",
   "language": "python",
   "name": "python3"
  },
  "language_info": {
   "codemirror_mode": {
    "name": "ipython",
    "version": 3
   },
   "file_extension": ".py",
   "mimetype": "text/x-python",
   "name": "python",
   "nbconvert_exporter": "python",
   "pygments_lexer": "ipython3",
   "version": "3.10.12"
  }
 },
 "nbformat": 4,
 "nbformat_minor": 4
}
